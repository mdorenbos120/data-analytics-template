{
 "cells": [
  {
   "cell_type": "markdown",
   "id": "ffef7c07-5703-4d2b-858a-68062bb2f722",
   "metadata": {},
   "source": [
    "# Project name "
   ]
  },
  {
   "cell_type": "markdown",
   "id": "b8c1d141-1913-4781-b355-b39cc939a03d",
   "metadata": {},
   "source": [
    "**Author:** Mary Dorenbos\n",
    "**Last Modified:** 11/13/24 \n",
    "\n",
    "**Description:** Short paragraph explaining this project."
   ]
  },
  {
   "cell_type": "markdown",
   "id": "56193a61-5edb-4316-8028-673bcac0d503",
   "metadata": {},
   "source": [
    "<br>"
   ]
  },
  {
   "cell_type": "markdown",
   "id": "e4813b89-a786-4cee-8b38-ab881738d4bb",
   "metadata": {},
   "source": [
    "import libraries: "
   ]
  },
  {
   "cell_type": "code",
   "execution_count": 5,
   "id": "e627c636-3cc8-4332-b6ad-0e8b52379c9e",
   "metadata": {},
   "outputs": [],
   "source": [
    "import pandas as pd "
   ]
  },
  {
   "cell_type": "markdown",
   "id": "31b472a4-2994-46d9-a94c-02d92fec776d",
   "metadata": {},
   "source": [
    "Load data: "
   ]
  },
  {
   "cell_type": "code",
   "execution_count": 7,
   "id": "b27b243f-68cc-4fd2-866b-87d7fd1c5089",
   "metadata": {},
   "outputs": [],
   "source": [
    "# code to read csv file "
   ]
  }
 ],
 "metadata": {
  "kernelspec": {
   "display_name": "Python 3 (ipykernel)",
   "language": "python",
   "name": "python3"
  },
  "language_info": {
   "codemirror_mode": {
    "name": "ipython",
    "version": 3
   },
   "file_extension": ".py",
   "mimetype": "text/x-python",
   "name": "python",
   "nbconvert_exporter": "python",
   "pygments_lexer": "ipython3",
   "version": "3.12.3"
  }
 },
 "nbformat": 4,
 "nbformat_minor": 5
}
